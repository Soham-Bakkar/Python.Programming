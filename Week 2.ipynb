{
 "cells": [
  {
   "cell_type": "code",
   "execution_count": 1,
   "id": "8bd46058",
   "metadata": {},
   "outputs": [
    {
     "name": "stdout",
     "output_type": "stream",
     "text": [
      "Enter a : 12\n",
      "Enter b : 123\n",
      "Enter c : 12\n",
      "2\n"
     ]
    }
   ],
   "source": [
    "#Create a function that takes three integer arguments (a, b, c) and returns the amount of\n",
    "#integers which are of equal value.\n",
    "def equal(a, b, c):     \n",
    "    if(a==b==c):\n",
    "        print(3)\n",
    "    elif(a==b or b==c or a==c):\n",
    "        print(2)\n",
    "    else:\n",
    "        print(0)\n",
    "a = int(input('Enter a : '))\n",
    "b = int(input('Enter b : '))\n",
    "c = int(input('Enter c : '))\n",
    "equal(a, b, c)"
   ]
  },
  {
   "cell_type": "code",
   "execution_count": 2,
   "id": "4a6ed554",
   "metadata": {},
   "outputs": [
    {
     "name": "stdout",
     "output_type": "stream",
     "text": [
      "[('Webseries', 12), ('Movies', 14), ('Anime', 31)]\n"
     ]
    }
   ],
   "source": [
    "# Write a function that converts a dictionary into a list of keys-values tuples.\n",
    "# Initialization of dictionary\n",
    "dict = { 'Webseries': 12, 'Movies': 14, 'Anime': 31 }\n",
    "\n",
    "# Converting into list of tuple\n",
    "list = list(dict.items())\n",
    "\n",
    "# Printing list of tuple\n",
    "print(list)"
   ]
  },
  {
   "cell_type": "code",
   "execution_count": 28,
   "id": "88930bb9",
   "metadata": {},
   "outputs": [
    {
     "data": {
      "text/plain": [
       "{'s': 'S', 'b': 'B'}"
      ]
     },
     "execution_count": 28,
     "metadata": {},
     "output_type": "execute_result"
    }
   ],
   "source": [
    "#Write a function that creates a dictionary with each (key, value) pair being the (lower case,\n",
    "#upper case) versions of a letter, respectively.\n",
    "def mapping(lst):\n",
    "    return {v.lower():v.upper() for v in lst}\n",
    "mapping(['s', 'b'])\n"
   ]
  },
  {
   "cell_type": "code",
   "execution_count": 30,
   "id": "4c99d438",
   "metadata": {},
   "outputs": [
    {
     "data": {
      "text/plain": [
       "'The Tele ef the Here'"
      ]
     },
     "execution_count": 30,
     "metadata": {},
     "output_type": "execute_result"
    }
   ],
   "source": [
    "#Write a function, that replaces all vowels in a string with a specified vowel.\n",
    "def vow_replace(s,ch):\n",
    "    vowel ='AEIOUaeiuo'\n",
    "    s1 = []\n",
    "    for i in range(len(s)):\n",
    "        if s[i] in vowel:\n",
    "            s1.append(ch)\n",
    "        else:\n",
    "            s1.append(s[i])\n",
    "\n",
    "    return ''.join((s1))\n",
    "vow_replace('The Tale of the Hero','e')\n"
   ]
  },
  {
   "cell_type": "code",
   "execution_count": 31,
   "id": "fd39c164",
   "metadata": {},
   "outputs": [
    {
     "data": {
      "text/plain": [
       "'wiLL oF FiRe'"
      ]
     },
     "execution_count": 31,
     "metadata": {},
     "output_type": "execute_result"
    }
   ],
   "source": [
    "#Create a function that takes a string as input and capitalizes a letter if its ASCII code is even\n",
    "#and returns its lower case version if its ASCII code is odd.\n",
    "def ascii_capitalize(s):\n",
    "    s1 = []\n",
    "    for i in range(len(s)):\n",
    "        if ord(s[i]) % 2 == 0:\n",
    "            s1.append(s[i].upper())\n",
    "        else:\n",
    "            s1.append(s[i].lower())\n",
    "\n",
    "    return \"\".join((s1))\n",
    "ascii_capitalize('Will of fire')"
   ]
  },
  {
   "cell_type": "code",
   "execution_count": null,
   "id": "2e2d4da1",
   "metadata": {},
   "outputs": [],
   "source": [
    "#Section B"
   ]
  },
  {
   "cell_type": "code",
   "execution_count": 7,
   "id": "0ce036d1",
   "metadata": {},
   "outputs": [
    {
     "name": "stdout",
     "output_type": "stream",
     "text": [
      "ENTER THE NUMBER  12\n",
      "NUMBER IS EVEN\n"
     ]
    }
   ],
   "source": [
    "#Write a Python Program to Check if a Number is Odd or Even?\n",
    "\n",
    "def check(NUM):\n",
    "    if (NUM%2)==0:\n",
    "        print (\"NUMBER IS EVEN\")\n",
    "    else:\n",
    "        print(\"NUMBER IS ODD\")\n",
    "X=int(input(\"ENTER THE NUMBER  \"))\n",
    "Y= check(X)"
   ]
  },
  {
   "cell_type": "code",
   "execution_count": 33,
   "id": "b415f0f3",
   "metadata": {},
   "outputs": [
    {
     "name": "stdout",
     "output_type": "stream",
     "text": [
      "The year is leap year\n",
      "The year is not a leap year\n"
     ]
    }
   ],
   "source": [
    "#Write a Python Program to Check Leap Year?\n",
    "\n",
    "def chk_leap(num):\n",
    "    if num%4==0 and num%100!=0 or num%400==0:\n",
    "        return 'The year is leap year'\n",
    "    else:\n",
    "        return 'The year is not a leap year'\n",
    "a = chk_leap(2008)\n",
    "b = chk_leap(2069)\n",
    "print(a)\n",
    "print(b)"
   ]
  },
  {
   "cell_type": "code",
   "execution_count": 9,
   "id": "181f6f7c",
   "metadata": {},
   "outputs": [
    {
     "name": "stdout",
     "output_type": "stream",
     "text": [
      "True\n"
     ]
    }
   ],
   "source": [
    "#Write a Python Program to check if given array is Monotonic?\n",
    "# Check if given array is Monotonic\n",
    "def isMonotonic(A):\n",
    "    x, y = [], []\n",
    "    x.extend(A)\n",
    "    y.extend(A)\n",
    "    x.sort()\n",
    "    y.sort(reverse=True)\n",
    "    if(x == A or y == A):\n",
    "        return True\n",
    "    return False\n",
    " \n",
    " \n",
    "# Driver program\n",
    "A = [6, 5, 4, 4]\n",
    " \n",
    "# Print required result\n",
    "print(isMonotonic(A))"
   ]
  },
  {
   "cell_type": "code",
   "execution_count": 10,
   "id": "561a5cb3",
   "metadata": {},
   "outputs": [
    {
     "name": "stdout",
     "output_type": "stream",
     "text": [
      "5 6 52 36 12 10 "
     ]
    }
   ],
   "source": [
    "#Write a Python Program to Split the array and add the first part to the end?# Python program to split array and move first part to end.\n",
    " \n",
    "def splitArr(arr, n, k):\n",
    "    for i in range(0, k):\n",
    "        x = arr[0]\n",
    "        for j in range(0, n-1):\n",
    "            arr[j] = arr[j + 1]\n",
    "         \n",
    "        arr[n-1] = x\n",
    "         \n",
    " \n",
    "#main\n",
    "arr = [12, 10, 5, 6, 52, 36]\n",
    "n = len(arr)\n",
    "position = 2\n",
    " \n",
    "splitArr(arr, n, position)\n",
    " \n",
    "for i in range(0, n):\n",
    "    print(arr[i], end = ' ')"
   ]
  },
  {
   "cell_type": "code",
   "execution_count": 1,
   "id": "ad6ac996",
   "metadata": {},
   "outputs": [
    {
     "name": "stdout",
     "output_type": "stream",
     "text": [
      "The list is: [2, 51, -344, 7, 4, 85, -56]\n",
      "The product is: \n",
      "381561344\n"
     ]
    }
   ],
   "source": [
    "#Python program to find sum of elements in list\n",
    "\n",
    "import numpy\n",
    "def multiply_numbers(list):\n",
    "   return numpy.prod(list)\n",
    "given_list = [2,51,-344,7,4,85,-56]\n",
    "print('The list is:',given_list)\n",
    "print(\"The product is: \")\n",
    "print(multiply_numbers(given_list))"
   ]
  },
  {
   "cell_type": "code",
   "execution_count": 2,
   "id": "d055a835",
   "metadata": {},
   "outputs": [],
   "source": [
    "#Section C"
   ]
  },
  {
   "cell_type": "code",
   "execution_count": 6,
   "id": "ad6ccb48",
   "metadata": {},
   "outputs": [
    {
     "data": {
      "text/plain": [
       "[1, 2, 3, 40]"
      ]
     },
     "execution_count": 6,
     "metadata": {},
     "output_type": "execute_result"
    }
   ],
   "source": [
    "#Create a function that takes an integer and returns a list from 1 to the given number, where:\n",
    "#1. If the number can be divided evenly by 4, amplify it by 10 (i.e. return 10 times the number).\n",
    "#2. If the number cannot be divided evenly by 4, simply return the number.\n",
    "def amplify(n):\n",
    "    return [i*10 if i % 4 == 0 else i for i in range(1,n+1)]\n",
    "amplify(4)"
   ]
  },
  {
   "cell_type": "code",
   "execution_count": 7,
   "id": "f6f4c245",
   "metadata": {},
   "outputs": [
    {
     "data": {
      "text/plain": [
       "[1, 2, 3]"
      ]
     },
     "execution_count": 7,
     "metadata": {},
     "output_type": "execute_result"
    }
   ],
   "source": [
    "amplify(3)"
   ]
  },
  {
   "cell_type": "code",
   "execution_count": 9,
   "id": "de122439",
   "metadata": {},
   "outputs": [
    {
     "data": {
      "text/plain": [
       "[1,\n",
       " 2,\n",
       " 3,\n",
       " 40,\n",
       " 5,\n",
       " 6,\n",
       " 7,\n",
       " 80,\n",
       " 9,\n",
       " 10,\n",
       " 11,\n",
       " 120,\n",
       " 13,\n",
       " 14,\n",
       " 15,\n",
       " 160,\n",
       " 17,\n",
       " 18,\n",
       " 19,\n",
       " 200,\n",
       " 21,\n",
       " 22,\n",
       " 23,\n",
       " 240,\n",
       " 25]"
      ]
     },
     "execution_count": 9,
     "metadata": {},
     "output_type": "execute_result"
    }
   ],
   "source": [
    "amplify(25)"
   ]
  },
  {
   "cell_type": "code",
   "execution_count": 13,
   "id": "b79324f6",
   "metadata": {},
   "outputs": [
    {
     "data": {
      "text/plain": [
       "3"
      ]
     },
     "execution_count": 13,
     "metadata": {},
     "output_type": "execute_result"
    }
   ],
   "source": [
    "#Question2\n",
    "#Create a function that takes a list of numbers and return the number that's unique.\n",
    "def unique(lst):\n",
    "    s = list(set(lst))# give us unique value\n",
    "    for i in s:\n",
    "        if lst.count(i) == 1:\n",
    "            return i"
   ]
  },
  {
   "cell_type": "code",
   "execution_count": 15,
   "id": "e2e355c5",
   "metadata": {},
   "outputs": [
    {
     "data": {
      "text/plain": [
       "3"
      ]
     },
     "execution_count": 15,
     "metadata": {},
     "output_type": "execute_result"
    }
   ],
   "source": [
    "unique([2, 2, 2, 2, 3, 2])"
   ]
  },
  {
   "cell_type": "code",
   "execution_count": 17,
   "id": "e1cd5916",
   "metadata": {},
   "outputs": [
    {
     "data": {
      "text/plain": [
       "0.88"
      ]
     },
     "execution_count": 17,
     "metadata": {},
     "output_type": "execute_result"
    }
   ],
   "source": [
    "unique([0, 0, 0.88, 0, 0])"
   ]
  },
  {
   "cell_type": "code",
   "execution_count": 19,
   "id": "04444590",
   "metadata": {},
   "outputs": [],
   "source": [
    "#Question3\n",
    "#create a Circle constructor that creates a circle with a radius provided by an argument. The circles constructed must have two getters getArea() (PIr^2) and getPerimeter()\n",
    "#(2PI*r) which give both respective areas and perimeter (circumference).\n",
    "class Circle():\n",
    "    def __init__(self, r):\n",
    "        self.radius = r\n",
    "\n",
    "    def getArea(self):\n",
    "        return round(self.radius**2*3.14)\n",
    "    \n",
    "    def getPerimeter(self):\n",
    "        return round(2*self.radius*3.14)"
   ]
  },
  {
   "cell_type": "code",
   "execution_count": 20,
   "id": "b39c51e7",
   "metadata": {},
   "outputs": [
    {
     "data": {
      "text/plain": [
       "380"
      ]
     },
     "execution_count": 20,
     "metadata": {},
     "output_type": "execute_result"
    }
   ],
   "source": [
    "circy = Circle(11)\n",
    "circy.getArea()"
   ]
  },
  {
   "cell_type": "code",
   "execution_count": 21,
   "id": "af52abbe",
   "metadata": {},
   "outputs": [
    {
     "data": {
      "text/plain": [
       "69"
      ]
     },
     "execution_count": 21,
     "metadata": {},
     "output_type": "execute_result"
    }
   ],
   "source": [
    "circy = Circle(11)\n",
    "circy.getPerimeter()"
   ]
  },
  {
   "cell_type": "code",
   "execution_count": 22,
   "id": "9d6631b1",
   "metadata": {},
   "outputs": [
    {
     "data": {
      "text/plain": [
       "['Sony', 'Xiaomi', 'Samsung']"
      ]
     },
     "execution_count": 22,
     "metadata": {},
     "output_type": "execute_result"
    }
   ],
   "source": [
    "#Question4\n",
    "#Create a function that takes a list of strings and return a list, sorted from shortest to longest.\n",
    "def sort_by_length(lst):\n",
    "    return sorted(lst, key = len)\n",
    "sort_by_length(['Xiaomi', 'Samsung', 'Sony'])"
   ]
  },
  {
   "cell_type": "code",
   "execution_count": 27,
   "id": "5eadf86b",
   "metadata": {},
   "outputs": [
    {
     "name": "stdout",
     "output_type": "stream",
     "text": [
      "not triplet\n"
     ]
    },
    {
     "data": {
      "text/plain": [
       "False"
      ]
     },
     "execution_count": 27,
     "metadata": {},
     "output_type": "execute_result"
    }
   ],
   "source": [
    "#Question5\n",
    "#Create a function that validates whether three given integers form a Pythagorean triplet. The\n",
    "#sum of the squares of the two smallest integers must equal the square of the largest number to\n",
    "#be validated.\n",
    "def is_triplet(a,b,c):\n",
    "    lst = []\n",
    "    lst.extend((a,b,c))\n",
    "    lst = sorted(lst)\n",
    "\n",
    "    if lst[0]**2 + lst[1]**2 == lst[2]**2:\n",
    "        print('Triplets')\n",
    "        return True\n",
    "    else:\n",
    "        print(\"not triplet\")\n",
    "        return False\n",
    "is_triplet(10, 12, 15)"
   ]
  },
  {
   "cell_type": "code",
   "execution_count": null,
   "id": "ef8814bd",
   "metadata": {},
   "outputs": [],
   "source": []
  }
 ],
 "metadata": {
  "kernelspec": {
   "display_name": "Python 3 (ipykernel)",
   "language": "python",
   "name": "python3"
  },
  "language_info": {
   "codemirror_mode": {
    "name": "ipython",
    "version": 3
   },
   "file_extension": ".py",
   "mimetype": "text/x-python",
   "name": "python",
   "nbconvert_exporter": "python",
   "pygments_lexer": "ipython3",
   "version": "3.9.13"
  }
 },
 "nbformat": 4,
 "nbformat_minor": 5
}
