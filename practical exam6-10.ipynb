{
 "cells": [
  {
   "cell_type": "code",
   "execution_count": 1,
   "id": "33cd53e8",
   "metadata": {},
   "outputs": [],
   "source": [
    "#Practice Question"
   ]
  },
  {
   "cell_type": "code",
   "execution_count": 2,
   "id": "27e9e442",
   "metadata": {},
   "outputs": [
    {
     "name": "stdout",
     "output_type": "stream",
     "text": [
      "Total Bus fare is: 2750.0\n"
     ]
    }
   ],
   "source": [
    "# Q6 6.\tCreate a Bus child class that inherits from the Vehicle class. The default fare charge of any vehicle is seating \n",
    "#capacity * 50. If Vehicle is Bus instance, we need to add an extra 10% on full fare as a maintenance charge. So total\n",
    "#fare for bus instance will become the final amount = total fare + 10% of the total fare.\n",
    "\n",
    "class Vehicle:\n",
    "    def __init__(self, name, mileage, capacity):\n",
    "        self.name = name\n",
    "        self.mileage = mileage\n",
    "        self.capacity = capacity\n",
    "\n",
    "    def fare(self):\n",
    "        return self.capacity * 50\n",
    "\n",
    "class Bus(Vehicle):\n",
    "    \n",
    "    def fare(self):\n",
    "        fare_car = self.capacity * 50\n",
    "        total_fare = fare_car + (0.1 *fare_car)\n",
    "        return total_fare\n",
    "\n",
    "School_bus = Bus(\"School Volvo\", 12, 50)\n",
    "print(\"Total Bus fare is:\", School_bus.fare())"
   ]
  },
  {
   "cell_type": "code",
   "execution_count": 3,
   "id": "240f05dd",
   "metadata": {},
   "outputs": [
    {
     "name": "stdout",
     "output_type": "stream",
     "text": [
      "220 10000\n"
     ]
    }
   ],
   "source": [
    "#7.\tWrite a Python program to create a Vehicle class with\n",
    "#max_speed and mileage instance attributes.    \n",
    "class Vehicle:\n",
    "    def __init__(self, max_speed, mileage):\n",
    "        self.max_speed = max_speed\n",
    "        self.mileage = mileage\n",
    "        \n",
    "        \n",
    "car = Vehicle(220, 10000)\n",
    "print(car.max_speed, car.mileage)\n",
    "\n",
    "#Create a Vehicle class without any variables and methods\n",
    "class Vehicle:\n",
    "    pass"
   ]
  },
  {
   "cell_type": "code",
   "execution_count": 4,
   "id": "1f35394d",
   "metadata": {},
   "outputs": [
    {
     "name": "stdout",
     "output_type": "stream",
     "text": [
      "Vehicle Name: School Volvo Speed: 180 Mileage: 12\n"
     ]
    }
   ],
   "source": [
    "#8.\tCreate a child class Bus that will inherit \n",
    "#all of the variables and methods of the Vehicle class. \n",
    "class Vehicle:\n",
    "\n",
    "    def __init__(self, name, max_speed, mileage):\n",
    "        self.name = name\n",
    "        self.max_speed = max_speed\n",
    "        self.mileage = mileage\n",
    "\n",
    "class Bus(Vehicle):\n",
    "    pass\n",
    "\n",
    "School_bus = Bus(\"School Volvo\", 180, 12)\n",
    "print(\"Vehicle Name:\", School_bus.name, \"Speed:\", School_bus.max_speed, \"Mileage:\", School_bus.mileage)"
   ]
  },
  {
   "cell_type": "code",
   "execution_count": 5,
   "id": "b62710d2",
   "metadata": {},
   "outputs": [
    {
     "data": {
      "text/plain": [
       "'The seating capacity of a school bus is 50 passengers'"
      ]
     },
     "execution_count": 5,
     "metadata": {},
     "output_type": "execute_result"
    }
   ],
   "source": [
    "#8 subquestion- Create a Bus class that inherits from the Vehicle class. \n",
    "#Give the capacity argument of Bus.seating_capacity() a default value of 50.\n",
    "            \n",
    "class Vehicle:\n",
    "    def __init__(self, name, max_speed, mileage):\n",
    "        self.name = name\n",
    "        self.max_speed = max_speed\n",
    "        self.mileage = mileage\n",
    "\n",
    "    def seating_capacity(self, capacity):\n",
    "        return f\"The seating capacity of a {self.name} is {capacity} passengers\"\n",
    "# Solution\n",
    "class bus(Vehicle):\n",
    "    \n",
    "    def seating_capacity(self, capacity=50):\n",
    "        return f\"The seating capacity of a {self.name} is {capacity} passengers\"\n",
    "    \n",
    "bus(\"school bus\", 120, 2990).seating_capacity()    "
   ]
  },
  {
   "cell_type": "code",
   "execution_count": 6,
   "id": "f004b1b7",
   "metadata": {},
   "outputs": [
    {
     "data": {
      "text/plain": [
       "'wiLL oF FiRe'"
      ]
     },
     "execution_count": 6,
     "metadata": {},
     "output_type": "execute_result"
    }
   ],
   "source": [
    "#9 Create a function that takes a string as input and capitalizes a letter if its ASCII code is even\n",
    "#and returns its lower case version if its ASCII code is odd.\n",
    "def ascii_capitalize(s):\n",
    "    s1 = []\n",
    "    for i in range(len(s)):\n",
    "        if ord(s[i]) % 2 == 0:\n",
    "            s1.append(s[i].upper())\n",
    "        else:\n",
    "            s1.append(s[i].lower())\n",
    "\n",
    "    return \"\".join((s1))\n",
    "ascii_capitalize('Will of fire')"
   ]
  },
  {
   "cell_type": "code",
   "execution_count": 7,
   "id": "2746e7e9",
   "metadata": {},
   "outputs": [
    {
     "data": {
      "text/plain": [
       "{'s': 'S', 'b': 'B'}"
      ]
     },
     "execution_count": 7,
     "metadata": {},
     "output_type": "execute_result"
    }
   ],
   "source": [
    "#10 Write a function that creates a dictionary with each (key, value) pair being the (lower case,\n",
    "#upper case) versions of a letter, respectively.\n",
    "def mapping(lst):\n",
    "    return {v.lower():v.upper() for v in lst}\n",
    "mapping(['s', 'b'])"
   ]
  },
  {
   "cell_type": "code",
   "execution_count": null,
   "id": "69d9a069",
   "metadata": {},
   "outputs": [],
   "source": [
    "                    "
   ]
  }
 ],
 "metadata": {
  "kernelspec": {
   "display_name": "Python 3 (ipykernel)",
   "language": "python",
   "name": "python3"
  },
  "language_info": {
   "codemirror_mode": {
    "name": "ipython",
    "version": 3
   },
   "file_extension": ".py",
   "mimetype": "text/x-python",
   "name": "python",
   "nbconvert_exporter": "python",
   "pygments_lexer": "ipython3",
   "version": "3.9.13"
  }
 },
 "nbformat": 4,
 "nbformat_minor": 5
}
