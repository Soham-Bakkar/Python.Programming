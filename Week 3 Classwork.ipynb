{
 "cells": [
  {
   "cell_type": "code",
   "execution_count": 1,
   "id": "3bebd9ff",
   "metadata": {},
   "outputs": [],
   "source": [
    "class MyClass:\n",
    "  x = 5"
   ]
  },
  {
   "cell_type": "code",
   "execution_count": 2,
   "id": "876543ce",
   "metadata": {},
   "outputs": [],
   "source": [
    "class MyNewClass:\n",
    "    '''This is a docstring. I have created a new class'''\n",
    "    pass"
   ]
  },
  {
   "cell_type": "code",
   "execution_count": 13,
   "id": "8a0092c1",
   "metadata": {},
   "outputs": [
    {
     "name": "stdout",
     "output_type": "stream",
     "text": [
      "Book: Atomic Habit, Quantity: 12, Author: James Clear, Price: 120\n",
      "Book: Rich Dad Poor Dad, Quantity: 18, Author: Robert T. Kiyosaki and Sharon Lechter, Price: 220\n",
      "Book: The Power of Your Subconscious Mind, Quantity: 28, Author: Joseph Murphy, Price: 320\n",
      "Book: Story Of Alita-The Battle Angel, Quantity: 1, Author: Kaushik Thale, Price: 500\n"
     ]
    }
   ],
   "source": [
    "class Book:\n",
    "    def __init__(self, title, quantity, author, price):\n",
    "        self.title = title\n",
    "        self.quantity = quantity\n",
    "        self.author = author\n",
    "        self.price = price\n",
    "\n",
    "    def __repr__(self):\n",
    "        return f\"Book: {self.title}, Quantity: {self.quantity}, Author: {self.author}, Price: {self.price}\"\n",
    "\n",
    "\n",
    "book1 = Book('Atomic Habit', 12, 'James Clear', 120)\n",
    "book2 = Book('Rich Dad Poor Dad', 18, 'Robert T. Kiyosaki and Sharon Lechter', 220)\n",
    "book3 = Book('The Power of Your Subconscious Mind', 28, 'Joseph Murphy', 320)\n",
    "book4 = Book('Story Of Alita-The Battle Angel', 1,'Kaushik Thale', 500)\n",
    "print(book1)\n",
    "print(book2)\n",
    "print(book3)\n",
    "print(book4)"
   ]
  },
  {
   "cell_type": "code",
   "execution_count": 14,
   "id": "e21b7433",
   "metadata": {},
   "outputs": [
    {
     "name": "stdout",
     "output_type": "stream",
     "text": [
      "This is hdfc to ICICI\n"
     ]
    }
   ],
   "source": [
    "class bank:\n",
    "    def transaction(self):\n",
    "        print(\"Total transaction value: \")\n",
    "\n",
    "    def account_opening(self):\n",
    "        print(\"This will show you your deposited account:\")\n",
    "\n",
    "    def deposite(self):\n",
    "        print(\"deposited account\")\n",
    "\n",
    "    def test(self):\n",
    "        print(\"this is test from bank\")\n",
    "\n",
    "class HDFC_bank():\n",
    "    def hdfc_to_ICICI(self):\n",
    "        print(\"This is hdfc to ICICI\")\n",
    "\n",
    "    def test(self):\n",
    "        print(\"this is test from HDFC\")\n",
    "\n",
    "class iNeuron():\n",
    "    def account_status_icici(self):\n",
    "        print(\"This is iNeuron\")\n",
    "\n",
    "class ICICI(HDFC_bank, bank, iNeuron):\n",
    "    def icici(self):\n",
    "        print(\"indepedent\")\n",
    "\n",
    "\n",
    "i=ICICI()\n",
    "\n",
    "i.hdfc_to_ICICI()\n",
    "#i.transaction()\n",
    "#i.account_opening()\n",
    "#i.deposite()\n",
    "#i.icici()\n",
    "#i.test()\n",
    "#i.account_status_icici()"
   ]
  },
  {
   "cell_type": "code",
   "execution_count": 12,
   "id": "9dbdd939",
   "metadata": {},
   "outputs": [
    {
     "name": "stdout",
     "output_type": "stream",
     "text": [
      "Kaushik\n",
      "69\n"
     ]
    }
   ],
   "source": [
    "#using __init__ function\n",
    "\n",
    "class Person:\n",
    "  def __init__(self, name, age):\n",
    "    self.name = name\n",
    "    self.age = age\n",
    "\n",
    "p1 = Person(\"Kaushik\", 69)\n",
    "\n",
    "print(p1.name)\n",
    "print(p1.age)"
   ]
  },
  {
   "cell_type": "code",
   "execution_count": 15,
   "id": "00a7f080",
   "metadata": {},
   "outputs": [
    {
     "name": "stdout",
     "output_type": "stream",
     "text": [
      "Hello my name is Bangdu\n"
     ]
    }
   ],
   "source": [
    "#object methods\n",
    "class Person:\n",
    "  def __init__(self, name, age):\n",
    "    self.name = name\n",
    "    self.age = age\n",
    "    \n",
    "#Objects can also contain methods. Methods in objects are functions that belong to the object.\n",
    "#Let us create a method in the Person class:\n",
    "\n",
    "  def myfunc(self):\n",
    "    print(\"Hello my name is \" + self.name)\n",
    "\n",
    "p1 = Person(\"Bangdu\", 69)\n",
    "p1.myfunc()"
   ]
  },
  {
   "cell_type": "code",
   "execution_count": 19,
   "id": "02035d78",
   "metadata": {},
   "outputs": [
    {
     "name": "stdout",
     "output_type": "stream",
     "text": [
      "Hello my name is Adbhoot and surname is Patil\n"
     ]
    }
   ],
   "source": [
    "#The self parameter is a reference to the current instance of the class, and is used to access variables that belongs to the class.\n",
    "class Person:\n",
    "  def __init__(mysillyobject, name, surname):\n",
    "    mysillyobject.name = name\n",
    "    mysillyobject.surname = surname\n",
    "\n",
    "  def myfunc(abc):\n",
    "    print(\"Hello my name is \" + abc.name + \" and surname is \" + abc.surname )\n",
    "\n",
    "p1 = Person(\"Adbhoot\", \"Patil\")\n",
    "p1.myfunc()"
   ]
  },
  {
   "cell_type": "code",
   "execution_count": 21,
   "id": "f8384255",
   "metadata": {},
   "outputs": [
    {
     "name": "stdout",
     "output_type": "stream",
     "text": [
      "Name :  Kaushik , Salary:  100000\n",
      "Name :  Adbhoot , Salary:  150\n",
      "Name :  Soham , Salary:  9999999\n",
      "Total Employee 3\n"
     ]
    }
   ],
   "source": [
    "class Employee:\n",
    "   'Common base class for all employees'\n",
    "   empCount = 0\n",
    "\n",
    "   def __init__(self, name, salary):\n",
    "      self.name = name\n",
    "      self.salary = salary\n",
    "      Employee.empCount += 1\n",
    "   \n",
    "   def displayCount(self):\n",
    "     print( \"Total Employee %d\" % Employee.empCount)\n",
    "\n",
    "   def displayEmployee(self):\n",
    "      print (\"Name : \", self.name,  \", Salary: \", self.salary)\n",
    "\n",
    "\n",
    "emp1 = Employee(\"Kaushik\", 100000)\n",
    "\n",
    "emp2 = Employee(\"Adbhoot\", 150)\n",
    "\n",
    "emp3 = Employee(\"Soham\", 9999999)\n",
    "\n",
    "\n",
    "emp1.displayEmployee()\n",
    "emp2.displayEmployee()\n",
    "emp3.displayEmployee()\n",
    "print (\"Total Employee %d\" % Employee.empCount)"
   ]
  },
  {
   "cell_type": "code",
   "execution_count": 22,
   "id": "9240e592",
   "metadata": {},
   "outputs": [
    {
     "name": "stdout",
     "output_type": "stream",
     "text": [
      "Initial list of values of list01: []\n",
      "Updated list after adding values to it: [2, 20, 44, 12]\n",
      "Updated list after removing value 12 is:  [2, 20, 44]\n"
     ]
    }
   ],
   "source": [
    "class NumList:\n",
    "    def __init__(self):\n",
    "        self.__list = [] \n",
    "    \n",
    "    def add_value(self, val):\n",
    "        self.__list.append(val)\n",
    "    \n",
    "    def remove_value(self):\n",
    "        rv = self.__list[-1]\n",
    "        del self.__list[-1]\n",
    "        return rv\n",
    "    \n",
    "    def print_list(self):\n",
    "        return self.__list\n",
    "\n",
    "list01 = NumList()\n",
    "print('Initial list of values of list01:', list01.print_list())\n",
    "list01.add_value(2)\n",
    "list01.add_value(20)\n",
    "list01.add_value(44)\n",
    "list01.add_value(12)\n",
    "print('Updated list after adding values to it:', list01.print_list())\n",
    "val = list01.remove_value()\n",
    "print('Updated list after removing value %s is: ' % (val), list01.print_list())"
   ]
  },
  {
   "cell_type": "code",
   "execution_count": 23,
   "id": "6c32abff",
   "metadata": {},
   "outputs": [
    {
     "name": "stdout",
     "output_type": "stream",
     "text": [
      "Initial list of values list02: []\n",
      "Updated list after adding values to it: [2000, 500, 44444, 122222]\n",
      "Updated list after removing value 122222 is:  [2000, 500, 44444]\n"
     ]
    }
   ],
   "source": [
    "list02 = NumList()\n",
    "print('Initial list of values list02:', list02.print_list())\n",
    "list02.add_value(2000)\n",
    "list02.add_value(500)\n",
    "list02.add_value(44444)\n",
    "list02.add_value(122222)\n",
    "print('Updated list after adding values to it:', list02.print_list())\n",
    "val = list02.remove_value()\n",
    "print('Updated list after removing value %s is: ' % (val), list02.print_list())\n"
   ]
  },
  {
   "cell_type": "code",
   "execution_count": 26,
   "id": "3d6a007b",
   "metadata": {},
   "outputs": [
    {
     "name": "stdout",
     "output_type": "stream",
     "text": [
      "This is a Mustang car of colour Matte Black\n",
      "This car is not ecofriendly!\n"
     ]
    }
   ],
   "source": [
    "# Class creation\n",
    "class Car:\n",
    "  # Initializer Method\n",
    "  def __init__(self):\n",
    "    # Instance variables\n",
    "    self.color = 'Black'\n",
    "    self.fuel_type = 'Petrol'\n",
    "  # Creating a class method\n",
    "  @classmethod\n",
    "  def details(cls, color, fuel_type):\n",
    "    print(\"This is a {} car of colour {}\".format(fuel_type, color))\n",
    "  # Creating a class method \n",
    "  @staticmethod\n",
    "  def ecofriendly(fuel_type):\n",
    "    if fuel_type.lower()=='electric':\n",
    "      print(\"This car is ecofriendly!\")\n",
    "    else:\n",
    "      print(\"This car is not ecofriendly!\")\n",
    "# Object Creation\n",
    "SUV = Car()\n",
    "SUV.details('Matte Black', 'Mustang')\n",
    "SUV.ecofriendly('Power Petrol')"
   ]
  },
  {
   "cell_type": "code",
   "execution_count": 27,
   "id": "f51d4e93",
   "metadata": {},
   "outputs": [
    {
     "name": "stdout",
     "output_type": "stream",
     "text": [
      "The color of this Bike is : Black\n"
     ]
    }
   ],
   "source": [
    "# Parent Class\n",
    "class Vehicle:\n",
    "  def __init__(self):\n",
    "    self.color = 'Black'\n",
    "  def fuel_type(self):\n",
    "    print(\"This is an Electric Vehicle\")\n",
    "# Child Class\n",
    "class Bike(Vehicle):\n",
    "  def __init__(self):\n",
    "    # Inherit the initializer method of parent class\n",
    "    super().__init__()\n",
    "  \n",
    "  # Method to use the attributes of parent class\n",
    "  def details(self):\n",
    "    print(\"The color of this Bike is :\", self.color)\n",
    "# Object for child class\n",
    "Superbike = Bike()\n",
    "# Access the method of child class\n",
    "Superbike.details()"
   ]
  },
  {
   "cell_type": "code",
   "execution_count": 2,
   "id": "a41c98c3",
   "metadata": {},
   "outputs": [],
   "source": [
    "class car:\n",
    "    def __init__(self, milage, year, make, model,engineno):\n",
    "        self.milage = milage\n",
    "        self.year = year\n",
    "        self.make = make\n",
    "        self.model = model\n",
    "        self.engineno = engineno\n",
    "        "
   ]
  },
  {
   "cell_type": "code",
   "execution_count": 29,
   "id": "3d07f67a",
   "metadata": {},
   "outputs": [],
   "source": [
    "nano1 = car(13, 2022, \"weew\", \"sass\", 2332)\n",
    "audiq71 = car(11, 2021, \"weqq\",\"qweq\",2342342)\n",
    "nano2 = car(13, 2022, \"weew\", \"sass\", 2332)\n",
    "audiq72 = car(11, 2021, \"weqq\",\"qweq\",2342342)\n",
    "nano3 = car(13, 2022, \"weew\", \"sass\", 2332)\n",
    "audiq73 = car(11, 2021, \"weqq\",\"qweq\",2342342)\n",
    "nano4 = car(13, 2022, \"weew\", \"sass\", 2332)\n",
    "audiq74 = car(11, 2021, \"weqq\",\"qweq\",2342342)"
   ]
  },
  {
   "cell_type": "code",
   "execution_count": 31,
   "id": "5bbd8b1f",
   "metadata": {},
   "outputs": [
    {
     "data": {
      "text/plain": [
       "'weew'"
      ]
     },
     "execution_count": 31,
     "metadata": {},
     "output_type": "execute_result"
    }
   ],
   "source": [
    "nano1.make"
   ]
  },
  {
   "cell_type": "code",
   "execution_count": 3,
   "id": "aa997ee0",
   "metadata": {},
   "outputs": [],
   "source": [
    "class car:\n",
    "    def __init__(a, m, y, ma, mo,en):\n",
    "        a.milage = m\n",
    "        a.year = y\n",
    "        a.make = ma\n",
    "        a.model = mo\n",
    "        a.engineno = en\n",
    "    \n",
    "    def age(self, current_year):\n",
    "        return current_year - self.year\n",
    "    \n",
    "    def milage1(self):\n",
    "        print(\"print a milage of car : \", self.milage)\n",
    "        #return self.milage\n",
    "    \n",
    "    def __str__(c):\n",
    "        return \"this is my car class I have created\""
   ]
  },
  {
   "cell_type": "code",
   "execution_count": 8,
   "id": "8c56d86c",
   "metadata": {},
   "outputs": [
    {
     "data": {
      "text/plain": [
       "11"
      ]
     },
     "execution_count": 8,
     "metadata": {},
     "output_type": "execute_result"
    }
   ],
   "source": [
    "audiq711.milage"
   ]
  },
  {
   "cell_type": "code",
   "execution_count": null,
   "id": "352f9034",
   "metadata": {},
   "outputs": [],
   "source": []
  }
 ],
 "metadata": {
  "kernelspec": {
   "display_name": "Python 3 (ipykernel)",
   "language": "python",
   "name": "python3"
  },
  "language_info": {
   "codemirror_mode": {
    "name": "ipython",
    "version": 3
   },
   "file_extension": ".py",
   "mimetype": "text/x-python",
   "name": "python",
   "nbconvert_exporter": "python",
   "pygments_lexer": "ipython3",
   "version": "3.9.13"
  }
 },
 "nbformat": 4,
 "nbformat_minor": 5
}
